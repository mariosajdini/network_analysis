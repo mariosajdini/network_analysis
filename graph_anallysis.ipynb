{
 "cells": [
  {
   "cell_type": "code",
   "execution_count": 1,
   "outputs": [],
   "source": [
    "import networkx as nx"
   ],
   "metadata": {
    "collapsed": false,
    "ExecuteTime": {
     "end_time": "2024-02-01T16:25:20.646740916Z",
     "start_time": "2024-02-01T16:25:20.159662347Z"
    }
   },
   "id": "15f939a0195a93f3"
  },
  {
   "cell_type": "code",
   "execution_count": 2,
   "id": "initial_id",
   "metadata": {
    "collapsed": true,
    "ExecuteTime": {
     "end_time": "2024-02-01T16:25:20.655805827Z",
     "start_time": "2024-02-01T16:25:20.391059268Z"
    }
   },
   "outputs": [],
   "source": [
    "G = nx.read_graphml('new_dataset.graphml')"
   ]
  },
  {
   "cell_type": "code",
   "execution_count": 3,
   "outputs": [],
   "source": [
    "import networkx as nx\n",
    "\n",
    "# Assuming 'your_graph' is your original YouTube social graph\n",
    "num_nodes = G.number_of_nodes()\n",
    "num_edges = G.number_of_edges()\n",
    "\n",
    "# Calculate the probability for the Erdős-Rényi model\n",
    "p = num_edges / (num_nodes * (num_nodes - 1))\n",
    "\n",
    "# Create a random directed graph with the same number of nodes and the calculated probability\n",
    "random_graph = nx.erdos_renyi_graph(num_nodes, p, directed=True)\n",
    "\n",
    "# Now you can calculate the triadic closure for the random graph and compare\n"
   ],
   "metadata": {
    "collapsed": false,
    "ExecuteTime": {
     "end_time": "2024-02-01T16:25:20.656992151Z",
     "start_time": "2024-02-01T16:25:20.620328894Z"
    }
   },
   "id": "ad6824a3453d29a9"
  },
  {
   "cell_type": "code",
   "execution_count": 4,
   "outputs": [
    {
     "name": "stdout",
     "output_type": "stream",
     "text": [
      "Transitivity of the Graph: 0.2507650932022628\n"
     ]
    }
   ],
   "source": [
    "G1 = G.to_undirected()\n",
    "\n",
    "transitivity = nx.transitivity(G1)\n",
    "print(\"Transitivity of the Graph:\", transitivity)\n"
   ],
   "metadata": {
    "collapsed": false,
    "ExecuteTime": {
     "end_time": "2024-02-01T16:25:20.659303130Z",
     "start_time": "2024-02-01T16:25:20.627334255Z"
    }
   },
   "id": "27ab7cf8a8478835"
  },
  {
   "cell_type": "code",
   "execution_count": 5,
   "outputs": [
    {
     "name": "stdout",
     "output_type": "stream",
     "text": [
      "Transitivity of the Random Graph: 0.04018509498295178\n"
     ]
    }
   ],
   "source": [
    "random_graph1 = random_graph.to_undirected()\n",
    "transitivity_random = nx.transitivity(random_graph1)\n",
    "print(\"Transitivity of the Random Graph:\", transitivity_random)"
   ],
   "metadata": {
    "collapsed": false,
    "ExecuteTime": {
     "end_time": "2024-02-01T16:25:20.684800720Z",
     "start_time": "2024-02-01T16:25:20.644787804Z"
    }
   },
   "id": "2f1aa4f95aa9e698"
  },
  {
   "cell_type": "code",
   "execution_count": 6,
   "outputs": [
    {
     "data": {
      "text/plain": "2704"
     },
     "execution_count": 6,
     "metadata": {},
     "output_type": "execute_result"
    }
   ],
   "source": [
    "triangles = nx.triangles(G1)\n",
    "total_triangles = sum(triangles.values()) // 3\n",
    "total_triangles"
   ],
   "metadata": {
    "collapsed": false,
    "ExecuteTime": {
     "end_time": "2024-02-01T16:25:20.691972722Z",
     "start_time": "2024-02-01T16:25:20.657199789Z"
    }
   },
   "id": "d8410ab987ef548e"
  },
  {
   "cell_type": "code",
   "execution_count": 7,
   "outputs": [
    {
     "data": {
      "text/plain": "165"
     },
     "execution_count": 7,
     "metadata": {},
     "output_type": "execute_result"
    }
   ],
   "source": [
    "triangles_random = nx.triangles(random_graph1)\n",
    "total_triangles_random = sum(triangles_random.values()) // 3\n",
    "total_triangles_random"
   ],
   "metadata": {
    "collapsed": false,
    "ExecuteTime": {
     "end_time": "2024-02-01T16:25:20.788825208Z",
     "start_time": "2024-02-01T16:25:20.669414613Z"
    }
   },
   "id": "528d9882a7df8d9f"
  },
  {
   "cell_type": "code",
   "execution_count": 8,
   "outputs": [],
   "source": [
    "bridges = list(nx.bridges(G1))"
   ],
   "metadata": {
    "collapsed": false,
    "ExecuteTime": {
     "end_time": "2024-02-01T16:25:20.789398675Z",
     "start_time": "2024-02-01T16:25:20.715298807Z"
    }
   },
   "id": "d4a48aa6c3b1933b"
  },
  {
   "cell_type": "code",
   "execution_count": 9,
   "outputs": [
    {
     "data": {
      "text/plain": "[('UCGdSS9hhh6zY24W-dwEnzDQ', 'UCkNBA4RIDjYUtuqMN9qxDPg'),\n ('UCMNe8ZwAbRuPnR0K4ler19w', 'UCrKS-46FKmKF2w1O6zOl3Yg'),\n ('UCexOYFSLShO9UYjWu9N-oGA', 'UCm9JTzawvFc_rKHP-hvoYxQ'),\n ('UCiBYJsSMYaCEMiJieYn3BGA', 'UC1cDpj_OXMMlpEmWpDbaGsg'),\n ('UC0hpVrTGDScpXR16lWbgg6w', 'UC8J0vy5x7scOm6itUxWH8gg'),\n ('UC1NKdUirpmn_cafZh75wmQw', 'UCMCGp4tDPxubob7x6pllk5Q'),\n ('UC1NKdUirpmn_cafZh75wmQw', 'UCmyF_0FfApPNSza05AYXyLg'),\n ('UC1NKdUirpmn_cafZh75wmQw', 'UCoa0xrRT0Jp6Z4G4P0sYLXQ'),\n ('UC8ftM8eQ2YKx0VxX9DwrzlQ', 'UCvfq3LXXfW72wx2cNt_ZeFg'),\n ('UCAT4v8QGnVXJVDugoMRCgiA', 'UC9aAeejaVOTL0nykywAXbUw'),\n ('UCE-4nyxCasi9HipGdtmFQoQ', 'UCXJ3R84_BWrfF6VQGBzV0dg'),\n ('UCMgX0CY6DB39o8ZpDiFo62g', 'UCC3JS1qW5CC-VMwsaGuVFwQ'),\n ('UCPItuYMjJJzffkogqNNg8HQ', 'UCWAb0-QD2WhYtst4j1OtfrQ'),\n ('UChJKW3cMYGtHK8VG28HN28A', 'UCXJ3R84_BWrfF6VQGBzV0dg'),\n ('UChnoWA76ja8PRdRdHzwDG7g', 'UCo4KYVNqfty1SXCQCKee5TQ'),\n ('UCkNBA4RIDjYUtuqMN9qxDPg', 'UC6jcKtWZPAgRDWwY99alTpQ'),\n ('UCkNBA4RIDjYUtuqMN9qxDPg', 'UCCYVVAFfmU62I6gIiDBjc4Q'),\n ('UCkNBA4RIDjYUtuqMN9qxDPg', 'UCCn4izm0rCod5U7reAIym2Q'),\n ('UCkNBA4RIDjYUtuqMN9qxDPg', 'UCEv3cL6M6amfO406J3VvaAA'),\n ('UCkNBA4RIDjYUtuqMN9qxDPg', 'UCKt7yklWWC--6jyy1DtNzQw'),\n ('UCkNBA4RIDjYUtuqMN9qxDPg', 'UCL56Ax4dsNSs8N4rHUr27Sg'),\n ('UCkNBA4RIDjYUtuqMN9qxDPg', 'UCNgDJ8ItGMppixs4A7FycGw'),\n ('UCkNBA4RIDjYUtuqMN9qxDPg', 'UCOWpdImR00awxXAhLYYRDgw'),\n ('UCnosjAJ345ht80kkVxt16EA', 'UC_oMaGL3aOt2P42bCDaTqdw'),\n ('UC-2i34LI4z22t6FkpAJm7Tw', 'UC35R8wQhTca1wH2sodswF6w'),\n ('UC1Y2wf1sefOhOqUEGiesujQ', 'UCebkaLRr7g_pFSxmJnnXhZQ'),\n ('UC1pfqFje6FXBIsEz-Y0jrkg', 'UCAVnqIxpzzyVUvQzisgZNkw'),\n ('UC35R8wQhTca1wH2sodswF6w', 'UC6W1eIDe1JAGVRkyvVs6syQ'),\n ('UC3HzSTNKFofLIQchpZ7jzyQ', 'UCNHvB8mqVf5_OBS5dd-QNmQ'),\n ('UC66IdZuclrQIoR5lf6nuQDA', 'UCDVrXH4nAGwpJ3f15YUEumg'),\n ('UC6neWk5ip97IGHClu5Jo7NA', 'UC6XS8wSyWeVYXaPZ1qfNDPw'),\n ('UC7BYK5HjONOOJztEimZcExQ', 'UCpyf1j8RVQUM6HkcI1-EvFw'),\n ('UC7Qkih-R38PRnCBNpzqIxmw', 'UCEAegYJEFFpeUp0l96OuNlA'),\n ('UC8J0vy5x7scOm6itUxWH8gg', 'UC8pP-QXP1fgyGXP3i5IPbtw'),\n ('UC8J0vy5x7scOm6itUxWH8gg', 'UCE97OeH38UXjTl6uK6MzVmg'),\n ('UCE2a9E3B2EjO0_rg2mgVmlg', 'UCuxSBNJZLvBvkTgYlr_0Ulw'),\n ('UCEAegYJEFFpeUp0l96OuNlA', 'UCVu3vUZ3tYXYJYMWuOBQLag'),\n ('UCEmucN5DwW4EDNG1rfKIF2w', 'UC_oMaGL3aOt2P42bCDaTqdw'),\n ('UCLdtxeHdQbCxVeO8LzC2UgQ', 'UCkazWv8EZHdlMn2vPFov00g'),\n ('UCLdtxeHdQbCxVeO8LzC2UgQ', 'UCl_c1iaSPQ9tLzyblkEzghw'),\n ('UCLf7YXb-0PWEeq59Z_q318A', 'UCrAOuO8iYCDqemWDkm1pDmg'),\n ('UCN4YNi5cE4xHTJy3wzjK4ZA', 'UCmp4vEEqI4_G4cT5OnaVeYg'),\n ('UCTomyRBmUch4ceMfIOu2MKg', 'UCmp4vEEqI4_G4cT5OnaVeYg'),\n ('UCWp7FgXLtJvdS5YbJRkS8ZA', 'UCmp4vEEqI4_G4cT5OnaVeYg'),\n ('UCe6SnV5Htp-cYkE-6Fd50wA', 'UCmp4vEEqI4_G4cT5OnaVeYg'),\n ('UCgbZgDTU0jcnQ_MuifKqnXw', 'UCkdIj6oZdca0dHy6BFQ_4vA'),\n ('UCgbZgDTU0jcnQ_MuifKqnXw', 'UCkfBkX6o3sqIDOTNbBlWr4Q'),\n ('UClDuZYG7d353dglnncfg2Pg', 'UCpyf1j8RVQUM6HkcI1-EvFw'),\n ('UCmhTvEZLXSOIrbmzD9ZKpbw', 'UCx7uP9EVsDt1CiW9eMpZVYA'),\n ('UC6iWuJzmISD7k6HQqEzV_Ew', 'UCmyrgQRgFclaGQmLPdghjug')]"
     },
     "execution_count": 9,
     "metadata": {},
     "output_type": "execute_result"
    }
   ],
   "source": [
    "bridges"
   ],
   "metadata": {
    "collapsed": false,
    "ExecuteTime": {
     "end_time": "2024-02-01T16:25:20.790124116Z",
     "start_time": "2024-02-01T16:25:20.715590255Z"
    }
   },
   "id": "753c50b98593fc60"
  },
  {
   "cell_type": "code",
   "execution_count": 10,
   "outputs": [],
   "source": [
    "bridges = list(nx.bridges(G1))\n",
    "critical_nodes_with_labels = []\n",
    "node_frequency = {}  # Dictionary to keep track of node frequency\n",
    "\n",
    "for u, v in bridges:\n",
    "    label_u = G1.nodes[u].get('label', u)  # Get label of node u, default to u if label not present\n",
    "    label_v = G1.nodes[v].get('label', v)  # Get label of node v, default to v if label not present\n",
    "    critical_nodes_with_labels.append((label_u, label_v))\n",
    "\n",
    "    # Update the frequency count for each node\n",
    "    node_frequency[label_u] = node_frequency.get(label_u, 0) + 1\n",
    "    node_frequency[label_v] = node_frequency.get(label_v, 0) + 1\n",
    "\n",
    "# Now, critical_nodes_with_labels contains the labels of the critical nodes for each bridge\n",
    "# and node_frequency contains the frequency of each node's appearance as a critical node"
   ],
   "metadata": {
    "collapsed": false,
    "ExecuteTime": {
     "end_time": "2024-02-01T16:25:20.790412770Z",
     "start_time": "2024-02-01T16:25:20.715835817Z"
    }
   },
   "id": "11950ad224c55e0a"
  },
  {
   "cell_type": "code",
   "execution_count": 11,
   "outputs": [
    {
     "name": "stdout",
     "output_type": "stream",
     "text": [
      "Sorted Nodes by Frequency: [('Skiourakic', 9), ('SonOfZeus', 4), ('12os Pithikos', 3), ('Nicolas Jovani', 3), ('DAMIAN', 2), ('Mastor', 2), ('Annoula', 2), ('Daddy Playz', 2), ('GL Stars', 2), ('VENE', 2), ('LPDudes', 2), ('konilo shorts', 1), ('Ορεινή Μέλισσα', 1), ('Ορεινή Μέλισσα SHORTS', 1), ('marioTUBE', 1), ('mariotube', 1), ('Paras Kaltsas', 1), ('Chris Kogias', 1), ('Barcode Entertainment', 1), ('Tsede The Real', 1), ('Sugar Boy King', 1), ('MR Ampa', 1), ('Capital Music', 1), ('Light Official', 1), ('Konstantinos Pantelidis Official', 1), ('Cobalt Music', 1), ('TRANNOS', 1), ('Natasha Kay', 1), ('Elena Kremlidou', 1), ('FIVE Trading', 1), ('Gloomy Gentlemen', 1), ('Balkan Records', 1), ('Geo Hunter', 1), ('PigTard', 1), ('Gunner bossGR', 1), ('Lau Jr', 1), ('MINATION', 1), ('Tzitzi', 1), ('zmpa', 1), ('HardCoreGamerGR', 1), ('b-PsychoStories', 1), ('SkuLLy', 1), ('OffBeat Records', 1), ('Emily Official', 1), ('Εθνική Ομάδα Ποδοσφαίρου', 1), ('Mpoulakis Projects', 1), ('City Center', 1), ('Lazarouk0s', 1), ('Marseaux - Topic', 1), ('BilYolo', 1), ('Το Κανάλι του Γιάννη John s Channel', 1), ('ItsOnlySkillz', 1), ('ItsOnlyCrew', 1), ('Alekkun', 1), ('ThEO Trolopoulos', 1), ('KingBet', 1), ('GL BROS', 1), ('ΘΥΤΗΣ', 1), ('VLOSPA Official', 1), ('PanikRecordsTube', 1), ('Eleni Foureira', 1), ('GL Best', 1), ('Über Alles Records', 1), ('Survivor Greece', 1), ('PL TUBE', 1), ('Olympiacos FC - Official YouTube Channel', 1), ('Άντε Γειά Official', 1), ('Fanis Labropoulos - Nisfa Games', 1), ('FAMOUS TOLI', 1), ('Pangior', 1), ('HelenaLive', 1), ('Weirdo', 1), ('Solmeister CKND', 1), ('Famous Games', 1), ('Tsoulfer', 1), ('TsoulfasP', 1), ('Cosmote What s Up', 1), ('Animentary', 1)]\n"
     ]
    }
   ],
   "source": [
    "sorted_nodes_by_frequency = sorted(node_frequency.items(), key=lambda item: item[1], reverse=True)\n",
    "\n",
    "print(\"Sorted Nodes by Frequency:\", sorted_nodes_by_frequency)"
   ],
   "metadata": {
    "collapsed": false,
    "ExecuteTime": {
     "end_time": "2024-02-01T16:25:20.791307996Z",
     "start_time": "2024-02-01T16:25:20.716021315Z"
    }
   },
   "id": "8eb531b2ae7a9eb6"
  },
  {
   "cell_type": "code",
   "execution_count": 12,
   "outputs": [
    {
     "data": {
      "text/plain": "[('konilo shorts', 'Skiourakic'),\n ('Ορεινή Μέλισσα', 'Ορεινή Μέλισσα SHORTS'),\n ('marioTUBE', 'mariotube'),\n ('Paras Kaltsas', 'Chris Kogias'),\n ('Barcode Entertainment', '12os Pithikos'),\n ('Nicolas Jovani', 'Tsede The Real'),\n ('Nicolas Jovani', 'Sugar Boy King'),\n ('Nicolas Jovani', 'MR Ampa'),\n ('Capital Music', 'Light Official'),\n ('Konstantinos Pantelidis Official', 'Cobalt Music'),\n ('TRANNOS', 'DAMIAN'),\n ('Natasha Kay', 'Elena Kremlidou'),\n ('FIVE Trading', 'Gloomy Gentlemen'),\n ('Balkan Records', 'DAMIAN'),\n ('Geo Hunter', 'PigTard'),\n ('Skiourakic', 'Gunner bossGR'),\n ('Skiourakic', 'Lau Jr'),\n ('Skiourakic', 'MINATION'),\n ('Skiourakic', 'Tzitzi'),\n ('Skiourakic', 'zmpa'),\n ('Skiourakic', 'HardCoreGamerGR'),\n ('Skiourakic', 'b-PsychoStories'),\n ('Skiourakic', 'SkuLLy'),\n ('OffBeat Records', 'Mastor'),\n ('Emily Official', 'Annoula'),\n ('Εθνική Ομάδα Ποδοσφαίρου', 'Mpoulakis Projects'),\n ('City Center', 'Lazarouk0s'),\n ('Annoula', 'Marseaux - Topic'),\n ('BilYolo', 'Το Κανάλι του Γιάννη John s Channel'),\n ('ItsOnlySkillz', 'ItsOnlyCrew'),\n ('Alekkun', 'ThEO Trolopoulos'),\n ('KingBet', 'Daddy Playz'),\n ('GL BROS', 'GL Stars'),\n ('12os Pithikos', 'ΘΥΤΗΣ'),\n ('12os Pithikos', 'VLOSPA Official'),\n ('PanikRecordsTube', 'Eleni Foureira'),\n ('GL Stars', 'GL Best'),\n ('Über Alles Records', 'Mastor'),\n ('VENE', 'Survivor Greece'),\n ('VENE', 'PL TUBE'),\n ('Olympiacos FC - Official YouTube Channel', 'Άντε Γειά Official'),\n ('Fanis Labropoulos - Nisfa Games', 'SonOfZeus'),\n ('FAMOUS TOLI', 'SonOfZeus'),\n ('Pangior', 'SonOfZeus'),\n ('HelenaLive', 'SonOfZeus'),\n ('LPDudes', 'Weirdo'),\n ('LPDudes', 'Solmeister CKND'),\n ('Famous Games', 'Daddy Playz'),\n ('Tsoulfer', 'TsoulfasP'),\n ('Cosmote What s Up', 'Animentary')]"
     },
     "execution_count": 12,
     "metadata": {},
     "output_type": "execute_result"
    }
   ],
   "source": [
    "critical_nodes_with_labels"
   ],
   "metadata": {
    "collapsed": false,
    "ExecuteTime": {
     "end_time": "2024-02-01T16:25:20.791876784Z",
     "start_time": "2024-02-01T16:25:20.717208547Z"
    }
   },
   "id": "14a6babf4d46c8f2"
  },
  {
   "cell_type": "code",
   "execution_count": 13,
   "outputs": [
    {
     "name": "stdout",
     "output_type": "stream",
     "text": [
      "50\n"
     ]
    }
   ],
   "source": [
    "print(len(bridges))"
   ],
   "metadata": {
    "collapsed": false,
    "ExecuteTime": {
     "end_time": "2024-02-01T16:25:20.792393050Z",
     "start_time": "2024-02-01T16:25:20.717498528Z"
    }
   },
   "id": "a30573620f28ae6"
  },
  {
   "cell_type": "code",
   "execution_count": 14,
   "outputs": [
    {
     "name": "stdout",
     "output_type": "stream",
     "text": [
      "0\n"
     ]
    }
   ],
   "source": [
    "random_graph_bridges = list(nx.bridges(random_graph1))\n",
    "print(len(random_graph_bridges))"
   ],
   "metadata": {
    "collapsed": false,
    "ExecuteTime": {
     "end_time": "2024-02-01T16:25:20.793958264Z",
     "start_time": "2024-02-01T16:25:20.741740861Z"
    }
   },
   "id": "bd4b05f465baadf8"
  },
  {
   "cell_type": "code",
   "execution_count": 15,
   "outputs": [],
   "source": [
    "import networkx as nx\n",
    "\n",
    "# Assuming 'G' is your pre-defined graph with 'label' attributes for each node\n",
    "local_bridges = []\n",
    "node_frequency = {}  # Dictionary to keep track of node frequency\n",
    "\n",
    "for edge in G.edges():\n",
    "    u, v = edge\n",
    "    neighbors_u = set(G.neighbors(u))\n",
    "    neighbors_v = set(G.neighbors(v))\n",
    "\n",
    "    # Check if there are no common neighbors, indicating a local bridge\n",
    "    if not neighbors_u & neighbors_v:\n",
    "        label_u = G.nodes[u].get('label', u)\n",
    "        label_v = G.nodes[v].get('label', v)\n",
    "        local_bridges.append((label_u, label_v))\n",
    "\n",
    "        # Update the frequency count for each node\n",
    "        node_frequency[label_u] = node_frequency.get(label_u, 0) + 1\n",
    "        node_frequency[label_v] = node_frequency.get(label_v, 0) + 1\n",
    "\n",
    "# Sort the nodes by their frequency, highest to lowest\n",
    "sorted_nodes_by_frequency = sorted(node_frequency.items(), key=lambda item: item[1], reverse=True)\n",
    "\n",
    "\n",
    "\n"
   ],
   "metadata": {
    "collapsed": false,
    "ExecuteTime": {
     "end_time": "2024-02-01T16:25:20.801935746Z",
     "start_time": "2024-02-01T16:25:20.742108994Z"
    }
   },
   "id": "40cbdf7ede9138c6"
  },
  {
   "cell_type": "code",
   "execution_count": 16,
   "outputs": [
    {
     "name": "stdout",
     "output_type": "stream",
     "text": [
      "701\n"
     ]
    }
   ],
   "source": [
    "print(len(local_bridges))"
   ],
   "metadata": {
    "collapsed": false,
    "ExecuteTime": {
     "end_time": "2024-02-01T16:25:20.802640864Z",
     "start_time": "2024-02-01T16:25:20.742319845Z"
    }
   },
   "id": "6011a70ba0e4a9ef"
  },
  {
   "cell_type": "code",
   "execution_count": 17,
   "outputs": [
    {
     "name": "stdout",
     "output_type": "stream",
     "text": [
      "Local Bridges: [('Ορεινή Μέλισσα', 'Ορεινή Μέλισσα SHORTS'), ('marioTUBE', 'mariotube'), ('Ορεινή Μέλισσα SHORTS', 'Ορεινή Μέλισσα'), ('Puck Games', 'Puck Redflix'), ('Nicolas Jovani', 'Alexandros Kopsialis'), ('Nicolas Jovani', 'BilYolo'), ('Nicolas Jovani', 'HeitLord'), ('Nicolas Jovani', 'FrediGtv'), ('Nicolas Jovani', 'Puck Redflix'), ('Nicolas Jovani', 'Kakos Xamos'), ('Nicolas Jovani', 'Mikeius Official'), ('Nicolas Jovani', 'Konilo'), ('Nicolas Jovani', 'SENIORA'), ('Nicolas Jovani', 'Tzivag'), ('Nicolas Jovani', 'AmiYiamiTube'), ('Nicolas Jovani', 'Giorgos Kavvalos'), ('Nicolas Jovani', 'Booyah TV'), ('Nicolas Jovani', 'Tsede The Real'), ('Nicolas Jovani', 'Skrap'), ('Nicolas Jovani', 'SNIK OFFICIAL'), ('Nicolas Jovani', 'John Li'), ('Nicolas Jovani', 'Internet4u'), ('Nicolas Jovani', 'Vibrator Productions'), ('Nicolas Jovani', 'WeirdWhisper'), ('Nicolas Jovani', 'Dimitris DK  Kyrsanidis'), ('Nicolas Jovani', 'Panagiotis Milas'), ('Nicolas Jovani', 'marioTUBE'), ('Nicolas Jovani', 'Hacky'), ('Nicolas Jovani', 'ComedyLab GR'), ('Nicolas Jovani', 'Unboxholics'), ('Nicolas Jovani', 'Sugar Boy King'), ('Nicolas Jovani', 'Manos'), ('Nicolas Jovani', 'MR Ampa'), ('Nicolas Jovani', 'Lambros Fisfis'), ('Nicolas Jovani', 'Φθείρομαι'), ('Nicolas Jovani', 'NerZhul'), ('Nicolas Jovani', 'TsoulfasP'), ('Nicolas Jovani', 'Markos Seferlis'), ('PC Building GR', 'TechItSerious'), ('PC Building GR', 'RantingGreekGamer'), ('TRANNOS', 'Capital Music'), ('TRANNOS', 'Trapsion Entertainment'), ('TRANNOS', 'ItsOnlySkillz'), ('TRANNOS', 'PanikRecordsTube'), ('TRANNOS', 'Netwix'), ('TRANNOS', 'DAMIAN'), ('The Aero', 'FairGR'), ('The Aero', 'ItsOnlySkillz'), ('2J', '2J Games'), ('W1ndz', 'xristt'), ('W1ndz', 'Alexandros Kopsialis'), ('W1ndz', 'BilYolo'), ('W1ndz', 'ItsOnlySkillz'), ('W1ndz', 'FrediGtv'), ('W1ndz', 'Dat Lilly'), ('W1ndz', 'Moxx'), ('W1ndz', 'Kakos Xamos'), ('W1ndz', 'Mikeius Official'), ('W1ndz', 'Konilo'), ('W1ndz', 'MrAntouon Reacts'), ('W1ndz', 'Giorgos Kavvalos'), ('W1ndz', 'Gunzar'), ('W1ndz', 'Booyah TV'), ('W1ndz', 'TukuGr'), ('W1ndz', 'NerZhul Games'), ('W1ndz', 'LegitGamingGR'), ('W1ndz', 'Skrap'), ('W1ndz', 'GamingPurist'), ('W1ndz', 'SNIK OFFICIAL'), ('W1ndz', 'John Li'), ('W1ndz', 'Internet4u'), ('W1ndz', 'Vibrator Productions'), ('W1ndz', 'WeirdWhisper'), ('W1ndz', 'MateoProd'), ('W1ndz', 'TechItSerious'), ('W1ndz', 'Καμένα Χαρτάκια'), ('W1ndz', 'Hacky'), ('W1ndz', 'ΜΠΑΜ FC'), ('W1ndz', 'Geo Hunter'), ('W1ndz', 'Unboxholics'), ('W1ndz', 'Manos'), ('W1ndz', 'SpaK'), ('W1ndz', 'Above The Hood'), ('W1ndz', 'MAXIMUM TOP 10'), ('W1ndz', 'KafroGamer'), ('W1ndz', 'Φθείρομαι'), ('W1ndz', 'DOF TWOGEE'), ('Natasha Kay', 'N.O.E. εnNOEiται'), ('Natasha Kay', 'ANT1 TV'), ('Natasha Kay', 'Mad TV Specials'), ('Natasha Kay', 'FrediGtv'), ('Natasha Kay', 'Dat Lilly'), ('Natasha Kay', 'Elena Kremlidou'), ('Natasha Kay', 'PanikRecordsTube'), ('Natasha Kay', 'Konilo'), ('Natasha Kay', '2J'), ('Natasha Kay', 'TukuGr'), ('Natasha Kay', 'TopTenGR'), ('Natasha Kay', 'Skrap'), ('Natasha Kay', 'Gloomy Gentlemen'), ('Natasha Kay', 'Vibrator Productions'), ('Natasha Kay', 'Labrini'), ('Natasha Kay', 'Hacky'), ('Natasha Kay', 'Unboxholics'), ('Natasha Kay', 'Manos'), ('Natasha Kay', 'Φθείρομαι'), ('Natasha Kay', 'NerZhul'), ('FIVE Trading', 'Gloomy Gentlemen'), ('Tsach', 'Booyah TV'), ('Tsach', 'Hacky'), ('Tsach', 'Konilo'), ('Tsach', 'Vibrator Productions'), ('Tsach', 'The Mad Scientist'), ('Rocket Dust', 'TUS'), ('Rocket Dust', 'Alexandros Kopsialis'), ('Rocket Dust', 'BilYolo'), ('Rocket Dust', 'OverDope Records'), ('Rocket Dust', 'Kakos Xamos'), ('Rocket Dust', 'Mikeius Official'), ('Rocket Dust', 'Konilo'), ('Rocket Dust', '2J'), ('Rocket Dust', 'Netwix'), ('Rocket Dust', 'Booyah TV'), ('Rocket Dust', 'LegitGamingGR'), ('Rocket Dust', 'SNIK OFFICIAL'), ('Rocket Dust', 'John Li'), ('Rocket Dust', 'Vibrator Productions'), ('Rocket Dust', 'WeirdWhisper'), ('Rocket Dust', 'TechItSerious'), ('Rocket Dust', 'Unboxing Specialist'), ('Rocket Dust', 'ComedyLab GR'), ('Rocket Dust', 'Unboxholics'), ('Rocket Dust', 'Manos'), ('Rocket Dust', 'Lambros Fisfis'), ('Rocket Dust', 'Markos Seferlis'), ('VGTalesChannel', 'LegitGamingGR'), ('VGTalesChannel', 'Hacky'), ('VGTalesChannel', 'Megacyber'), ('VGTalesChannel', 'Kakos Xamos'), ('VGTalesChannel', 'Booyah TV'), ('VGTalesChannel', 'Καθημερινή Φυσική'), ('VGTalesChannel', 'MateoProd'), ('Παραφυσικές Δραστηριότητες', 'TUS'), ('Παραφυσικές Δραστηριότητες', 'Alpha TV Greece'), ('Karpouzis', 'Skrap'), ('Karpouzis', 'SENIORA'), ('Karpouzis', 'Labrini'), ('Karpouzis', 'Hacky'), ('Karpouzis', 'BilYolo'), ('Karpouzis', 'Megacyber'), ('Karpouzis', 'Gianuba'), ('Karpouzis', 'Capital Music'), ('Karpouzis', 'Puck Redflix'), ('Karpouzis', 'Kakos Xamos'), ('Karpouzis', 'Mikeius Official'), ('Karpouzis', 'Konilo'), ('Karpouzis', '2J'), ('Karpouzis', 'AmiYiamiTube'), ('Karpouzis', 'Giorgos Kavvalos'), ('Karpouzis', 'Booyah TV'), ('Karpouzis', 'TukuGr'), ('Karpouzis', 'LegitGamingGR'), ('Karpouzis', 'Vibrator Productions'), ('Karpouzis', 'WeirdWhisper'), ('Karpouzis', 'ΜΠΑΜ FC'), ('Karpouzis', 'Geo Hunter'), ('Karpouzis', 'Unboxholics'), ('Karpouzis', 'Manos'), ('Karpouzis', 'Lambros Fisfis'), ('Karpouzis', 'KafroGamer'), ('Karpouzis', 'NerZhul'), ('Balkan Records', 'DAMIAN'), ('Geo Hunter', 'PigTard'), ('Satamo_Ryoshi', 'ItsOnlySkillz'), ('Satamo_Ryoshi', 'Gunzar'), ('DoritoSenpai', 'Mikeius Official'), ('DoritoSenpai', 'Konilo'), ('DoritoSenpai', '2J'), ('DoritoSenpai', 'KafroGamer'), ('DoritoSenpai', 'Jack Lope'), ('Skiourakic', 'Stix'), ('Skiourakic', 'N.O.E. εnNOEiται'), ('Skiourakic', 'persad'), ('Skiourakic', 'xristt'), ('Skiourakic', 'TUS'), ('Skiourakic', 'Alexandros Kopsialis'), ('Skiourakic', 'FairGR'), ('Skiourakic', 'BilYolo'), ('Skiourakic', 'Alexandros Maliatsis'), ('Skiourakic', 'Megacyber'), ('Skiourakic', 'HeitLord'), ('Skiourakic', 'ItsOnlySkillz'), ('Skiourakic', 'Gunner bossGR'), ('Skiourakic', 'FrediGtv'), ('Skiourakic', 'Capital Music'), ('Skiourakic', 'AlphaPop'), ('Skiourakic', 'Meowreeee'), ('Skiourakic', 'Dat Lilly'), ('Skiourakic', 'Jeannon'), ('Skiourakic', 'ItsOnlyBro'), ('Skiourakic', 'YoTsi'), ('Skiourakic', 'Lau Jr'), ('Skiourakic', 'MINATION'), ('Skiourakic', 'DK Games'), ('Skiourakic', 'Kakos Xamos'), ('Skiourakic', 'xalkdit'), ('Skiourakic', 'Konilo'), ('Skiourakic', 'Tzitzi'), ('Skiourakic', 'konilo shorts'), ('Skiourakic', 'SENIORA'), ('Skiourakic', 'Tzivag'), ('Skiourakic', 'AmiYiamiTube'), ('Skiourakic', 'Giorgos Kavvalos'), ('Skiourakic', 'zmpa'), ('Skiourakic', 'HardCoreGamerGR'), ('Skiourakic', 'Netwix'), ('Skiourakic', 'Gunzar'), ('Skiourakic', 'Booyah TV'), ('Skiourakic', 'Ορεινή Μέλισσα'), ('Skiourakic', 'b-PsychoStories'), ('Skiourakic', 'SkuLLy'), ('Skiourakic', 'TukuGr'), ('Skiourakic', 'LegitGamingGR'), ('TeamPls', 'ItsOnlySkillz'), ('TeamPls', 'Gunzar'), ('Toquel', 'Konilo'), ('Toquel', 'Giorgos Kavvalos'), ('Jack Lope', 'Stix'), ('Jack Lope', 'DoritoSenpai'), ('Jack Lope', 'WeirdWhisper'), ('Jack Lope', 'NinjaCakeAssassin'), ('ΑΛΛΟΙ', 'Booyah TV'), ('ΑΛΛΟΙ', 'Hacky'), ('2J Games', '2J'), ('Mad Clip', 'Capital Music'), ('Light Official', 'Capital Music'), ('TUS', 'Panagiotis Milas'), ('ANT1 TV', 'Netwix'), ('Mad TV Specials', 'Markos Seferlis'), ('Chris Kogias', 'Kogias Reacts'), ('Chris Kogias', 'Alexandros Kopsialis'), ('Chris Kogias', 'HeitLord'), ('Chris Kogias', 'GL Show'), ('Chris Kogias', 'FrediGtv'), ('Chris Kogias', 'Konilo'), ('Chris Kogias', '2J'), ('Chris Kogias', 'Giorgos Kavvalos'), ('Chris Kogias', 'Lotof'), ('Chris Kogias', 'Dimitris DK  Kyrsanidis'), ('Chris Kogias', 'Paras Kaltsas'), ('Chris Kogias', 'Manos'), ('Chris Kogias', 'NerZhul'), ('Chris Kogias', 'TsoulfasP'), ('Annoula', 'Emily Official'), ('Annoula', 'ItsOnlySkillz'), ('Annoula', 'Marseaux - Topic'), ('Annoula', 'Puck Redflix'), ('Annoula', 'Dat Lilly'), ('Annoula', 'Moxx'), ('Annoula', 'Jeannon'), ('Annoula', '2J'), ('Annoula', 'SENIORA'), ('Annoula', 'Gunzar'), ('Annoula', 'Booyah TV'), ('Annoula', 'Ορεινή Μέλισσα'), ('Annoula', 'HeitLord Games'), ('Annoula', 'TukuGr'), ('Annoula', 'NerZhul Games'), ('Annoula', 'LegitGamingGR'), ('Annoula', 'GamingPurist'), ('Annoula', 'Hacky'), ('Annoula', 'Linaras THC'), ('Annoula', 'Unboxholics'), ('Annoula', 'SpaK'), ('Annoula', 'NeverLander'), ('Zisis', 'LegitGamingGR'), ('Gianuba', 'ItsOnlySkillz'), ('Gianuba', 'Dorii'), ('Gianuba', 'Gunzar'), ('Alekkun', 'persad'), ('Alekkun', 'xristt'), ('Alekkun', 'Alexandros Kopsialis'), ('Alekkun', 'FairGR'), ('Alekkun', 'Megacyber'), ('Alekkun', 'ItsOnlySkillz'), ('Alekkun', 'ThEO Trolopoulos'), ('Alekkun', 'Moxx'), ('Alekkun', 'Kakos Xamos'), ('Alekkun', 'Konilo'), ('Alekkun', 'MrAntouon Reacts'), ('Alekkun', 'Gunzar'), ('Alekkun', 'Booyah TV'), ('Alekkun', 'Ορεινή Μέλισσα'), ('Alekkun', 'TukuGr'), ('Alekkun', 'Καθημερινή Φυσική'), ('Alekkun', 'LegitGamingGR'), ('Alekkun', 'Skrap'), ('Alekkun', 'GamingPurist'), ('Alekkun', 'Gloomy Gentlemen'), ('Alekkun', 'Internet4u'), ('Alekkun', 'MateoProd'), ('Alekkun', 'TechItSerious'), ('Alekkun', 'Unboxing Specialist'), ('Alekkun', 'SpikeGames'), ('Alekkun', 'marioTUBE'), ('Alekkun', 'Hacky'), ('Alekkun', 'ΜΠΑΜ FC'), ('Alekkun', 'Geo Hunter'), ('Alekkun', 'Unboxholics'), ('Alekkun', 'Manos'), ('Alekkun', 'SpaK'), ('Alekkun', 'NeverLander'), ('Alekkun', 'MAXIMUM TOP 10'), ('Alekkun', 'Lambros Fisfis'), ('Alekkun', 'KafroGamer'), ('Alekkun', 'RantingGreekGamer'), ('Alekkun', 'PCsteps.gr'), ('12os Pithikos', 'Barcode Entertainment'), ('12os Pithikos', 'ΘΥΤΗΣ'), ('12os Pithikos', 'VLOSPA Official'), ('12os Pithikos', 'Dimitris DK  Kyrsanidis'), ('PanosDent', 'GamingPurist'), ('PanosDent', 'Alexandros Kopsialis'), ('PanosDent', 'ItsOnlySkillz'), ('PanosDent', 'FrediGtv'), ('PanosDent', 'Kakos Xamos'), ('PanosDent', 'Konilo'), ('PanosDent', '2J'), ('PanosDent', 'SENIORA'), ('PanosDent', 'Booyah TV'), ('PanosDent', 'TukuGr'), ('PanosDent', 'John Li'), ('PanosDent', 'Internet4u'), ('PanosDent', 'Vibrator Productions'), ('PanosDent', 'Hacky'), ('PanosDent', 'Linaras THC'), ('PanosDent', 'Unboxholics'), ('PanosDent', 'NeverLander'), ('PanosDent', 'NerZhul'), ('Lazarouk0s', 'City Center'), ('Lazarouk0s', 'Konilo'), ('Lazarouk0s', 'ΜΠΑΜ FC'), ('Lazarouk0s', 'Unboxholics'), ('YoTsi', 'NerZhul Games'), ('ItsOnlyCrew', 'ItsOnlySkillz'), ('DK Games', 'Dimitris DK  Kyrsanidis'), ('GL Stars', 'GL Show'), ('GL Stars', 'GL Best'), ('GL Stars', 'GL BROS'), ('GL Stars', 'GL Teens'), ('GL Stars', 'GL Friends'), ('Lev On', 'ItsOnlySkillz'), ('Lev On', 'Jeannon'), ('Lev On', 'YoTsi'), ('Lev On', 'OverDope Records'), ('Lev On', 'Gloomy Gentlemen'), ('Lev On', 'ΜΠΑΜ FC'), ('Marw & Stas', 'GL Show'), ('Marw & Stas', 'GL Teens'), ('DimON Gamer', 'GL Show'), ('Kristy', 'Alexandros Kopsialis'), ('Kristy', 'Moxx'), ('Kristy', 'Kakos Xamos'), ('Kristy', 'Mikeius Official'), ('Kristy', 'Konilo'), ('Kristy', '2J'), ('Kristy', 'MrAntouon Reacts'), ('Kristy', 'AmiYiamiTube'), ('Kristy', 'Giorgos Kavvalos'), ('Kristy', 'Gunzar'), ('Kristy', 'Booyah TV'), ('Kristy', 'TukuGr'), ('Kristy', 'LegitGamingGR'), ('Kristy', 'Skrap'), ('Kristy', 'Gloomy Gentlemen'), ('Kristy', 'Internet4u'), ('Kristy', 'Vibrator Productions'), ('Kristy', 'Καμένα Χαρτάκια'), ('Kristy', 'Hacky'), ('Kristy', 'ΜΠΑΜ FC'), ('Kristy', 'Unboxholics'), ('Kristy', 'Lambros Fisfis'), ('Kristy', 'NerZhul'), ('VENE', 'GL Show'), ('VENE', 'Capital Music'), ('VENE', 'AlphaPop'), ('VENE', 'YoTsi'), ('VENE', 'SNIK OFFICIAL'), ('VENE', 'Nataludi'), ('VENE', 'Unboxholics'), ('VENE', 'Survivor Greece'), ('VENE', 'PL TUBE'), ('VENE', 'TeamPls'), ('Το Κανάλι του Γιάννη John s Channel', 'BilYolo'), ('Axel', 'Megacyber'), ('Axel', 'Kakos Xamos'), ('Axel', 'Konilo'), ('Axel', 'Booyah TV'), ('Axel', 'LegitGamingGR'), ('Axel', 'Skrap'), ('Axel', 'WeirdWhisper'), ('Axel', 'TechItSerious'), ('Axel', 'Unboxing Specialist'), ('Axel', 'marioTUBE'), ('Axel', 'Hacky'), ('Axel', 'ΜΠΑΜ FC'), ('Axel', 'Unboxholics'), ('Axel', 'NerZhul'), ('Axel', 'RantingGreekGamer'), ('R1ou TV', 'Gianuba'), ('R1ou TV', 'Capital Music'), ('R1ou TV', 'Netwix'), ('R1ou TV', 'Καθημερινή Φυσική'), ('R1ou TV', 'Konstantina'), ('R1ou TV', 'Hacky'), ('R1ou TV', 'ΜΠΑΜ FC'), ('R1ou TV', 'Nataludi'), ('R1ou TV', 'Unboxholics'), ('R1ou TV', 'BadKarmaGR'), ('R1ou TV', 'Giorgos Mazonakis'), ('R1ou TV', 'KafroGamer'), ('R1ou TV', 'DOF TWOGEE'), ('R1ou TV', 'PCsteps.gr'), ('DAMIAN', 'Balkan Records'), ('W1ndzIRL', 'Unboxholics'), ('W1ndzIRL', 'Dorii'), ('Mastor', 'TOM and CHILL'), ('Mastor', 'ANT1 TV'), ('Mastor', 'Capital Music'), ('Mastor', 'AlphaPop'), ('Mastor', 'Über Alles Records'), ('Mastor', 'Mikeius Official'), ('Mastor', 'Konilo'), ('Mastor', 'SENIORA'), ('Mastor', 'Booyah TV'), ('Mastor', 'TukuGr'), ('Mastor', 'SNIK OFFICIAL'), ('Mastor', 'Gloomy Gentlemen'), ('Mastor', 'Krow'), ('Mastor', 'ΜΠΑΜ FC'), ('Mastor', 'ComedyLab GR'), ('Mastor', 'Unboxholics'), ('Mastor', 'OffBeat Records'), ('Mastor', 'Manos'), ('Mastor', 'Above The Hood'), ('Mastor', 'NerZhul'), ('Dimitris DK  Kyrsanidis', 'DK Games'), ('FrankiePaskGames', 'Frankie Pask'), ('Prime Productions', 'Cobalt Music'), ('Prime Productions', 'PanikRecordsTube'), ('Mpoulakis Projects', 'Εθνική Ομάδα Ποδοσφαίρου'), ('Mpoulakis Projects', 'Tsach'), ('Mpoulakis Projects', 'ComedyLab GR'), ('Mpoulakis Projects', 'Toquel'), ('LPDudes', 'Kakos Xamos'), ('LPDudes', 'Booyah TV'), ('LPDudes', 'Vibrator Productions'), ('LPDudes', 'Καμένα Χαρτάκια'), ('LPDudes', 'Puck Redflix'), ('LPDudes', 'Konilo'), ('LPDudes', 'KafroGamer'), ('LPDudes', 'Gloomy Gentlemen'), ('LPDudes', 'BilYolo'), ('LPDudes', 'Gianuba'), ('LPDudes', 'Mikeius Official'), ('LPDudes', 'SENIORA'), ('LPDudes', 'MrAntouon Reacts'), ('LPDudes', 'TukuGr'), ('LPDudes', 'Skrap'), ('LPDudes', 'John Li'), ('LPDudes', 'Internet4u'), ('LPDudes', 'WeirdWhisper'), ('LPDudes', 'Krow'), ('LPDudes', 'Unboxing Specialist'), ('LPDudes', 'marioTUBE'), ('LPDudes', 'Hacky'), ('LPDudes', 'ComedyLab GR'), ('LPDudes', 'Unboxholics'), ('LPDudes', 'Weirdo'), ('LPDudes', 'Solmeister CKND'), ('LPDudes', 'Manos'), ('LPDudes', 'Lambros Fisfis'), ('LPDudes', 'NerZhul'), ('UnboxSerious', 'FairGR'), ('VAGGLOS', 'ItsOnlySkillz'), ('Drifter mike', 'TopTenGR'), ('Drifter mike', 'zfgarage'), ('Drifter mike', 'Vibrator Productions'), ('Drifter mike', 'Manos'), ('Odyssey Gamer', 'GL Teens'), ('Odyssey Gamer', 'GL Friends'), ('Kogias Reacts', 'Chris Kogias'), ('SonOfZeus', 'Alexandros Kopsialis'), ('SonOfZeus', 'Trapsion Entertainment'), ('SonOfZeus', 'BilYolo'), ('SonOfZeus', 'HeitLord'), ('SonOfZeus', 'ItsOnlySkillz'), ('SonOfZeus', 'AlphaPop'), ('SonOfZeus', 'CaptainPanez'), ('SonOfZeus', 'Jeannon'), ('SonOfZeus', 'YoTsi'), ('SonOfZeus', 'OverDope Records'), ('SonOfZeus', 'Konilo'), ('SonOfZeus', '2J'), ('SonOfZeus', 'Giorgos Kavvalos'), ('SonOfZeus', 'Netwix'), ('SonOfZeus', 'Gunzar'), ('SonOfZeus', 'Fanis Labropoulos - Nisfa Games'), ('SonOfZeus', 'Καθημερινή Φυσική'), ('SonOfZeus', 'FAMOUS TOLI'), ('SonOfZeus', 'SNIK OFFICIAL'), ('SonOfZeus', 'Pangior'), ('SonOfZeus', 'TechItSerious'), ('SonOfZeus', 'Panagiotis Milas'), ('SonOfZeus', 'SpikeGames'), ('SonOfZeus', 'HelenaLive'), ('SonOfZeus', 'iLLEOo'), ('SonOfZeus', 'Geo Hunter'), ('SonOfZeus', 'Raptopoulos'), ('SonOfZeus', 'Unboxholics'), ('SonOfZeus', 'Manos'), ('SonOfZeus', 'BadKarmaGR'), ('SonOfZeus', 'SpaK'), ('SonOfZeus', 'MAXIMUM TOP 10'), ('SonOfZeus', 'KafroGamer'), ('SonOfZeus', 'PCsteps.gr'), ('Άντε Γειά Official', 'Olympiacos FC - Official YouTube Channel'), ('Frankie Pask', 'FrankiePaskGames'), ('GemiFrap', 'ItsOnlySkillz'), ('Comedy GamerGr', 'Giorgos Kavvalos'), ('D0nalduck7', 'Alexandros Kopsialis'), ('D0nalduck7', 'ItsOnlySkillz'), ('D0nalduck7', 'ItsOnlyBro'), ('D0nalduck7', 'DK Games'), ('D0nalduck7', 'Mikeius Official'), ('D0nalduck7', 'Booyah TV'), ('D0nalduck7', 'ΜΠΑΜ FC'), ('D0nalduck7', 'Unboxholics'), ('D0nalduck7', 'Manos'), ('D0nalduck7', 'NeverLander'), ('D0nalduck7', 'NerZhul'), ('GRArthas', 'Frankie Pask'), ('Eleni Foureira', 'PanikRecordsTube'), ('Resurrection Garage', 'zfgarage'), ('Resurrection Garage', 'Panagiotis Milas'), ('Resurrection Garage', 'The Mad Scientist'), ('NerZhul', 'NerZhul Games'), ('TsoulfasP', 'Tsoulfer'), ('PDT Project', 'Konstantina'), ('Jim Epsilon', 'xristt'), ('Jim Epsilon', 'Stix'), ('sifugeorge', 'Mikeius Official'), ('sifugeorge', 'Konilo'), ('sifugeorge', 'Alpha TV Greece'), ('sifugeorge', 'Raptopoulos'), ('sifugeorge', 'ComedyLab GR'), ('Alexandros Maliatsis', 'ComedyLab GR'), ('Alexandros Maliatsis', 'Unboxholics'), ('Puck Redflix', 'Puck Games'), ('The Kouzins', 'Megacyber'), ('The Kouzins', 'LegitGamingGR'), ('The Kouzins', 'Kakos Xamos'), ('The Kouzins', 'Unboxing Specialist'), ('The Kouzins', 'MateoProd'), ('Cobalt Music', 'N.O.E. εnNOEiται'), ('Cobalt Music', 'Konstantinos Pantelidis Official'), ('Cobalt Music', 'iLLEOo'), ('CaptainPanez', 'Hacky'), ('CaptainPanez', 'Booyah TV'), ('UH Highlights', 'Unboxholics'), ('UH Highlights', 'ComedyLab GR'), ('UH Highlights', 'TechItSerious'), ('RebellGamesGR', 'LegitGamingGR'), ('RebellGamesGR', 'Megacyber'), ('RebellGamesGR', 'Hacky'), ('RebellGamesGR', 'Unboxholics'), ('RebellGamesGR', 'TUS'), ('RebellGamesGR', 'Kakos Xamos'), ('RebellGamesGR', 'Mikeius Official'), ('RebellGamesGR', 'SENIORA'), ('RebellGamesGR', 'AmiYiamiTube'), ('RebellGamesGR', 'Booyah TV'), ('RebellGamesGR', 'TukuGr'), ('RebellGamesGR', 'Καθημερινή Φυσική'), ('RebellGamesGR', 'Skrap'), ('RebellGamesGR', 'John Li'), ('RebellGamesGR', 'Vibrator Productions'), ('RebellGamesGR', 'MateoProd'), ('RebellGamesGR', 'TechItSerious'), ('RebellGamesGR', 'Unboxing Specialist'), ('RebellGamesGR', 'Lambros Fisfis'), ('RebellGamesGR', 'KafroGamer'), ('YoshiMitsou San', 'TOM and CHILL'), ('YoshiMitsou San', 'ItsOnlySkillz'), ('YoshiMitsou San', 'Moxx'), ('YoshiMitsou San', 'Booyah TV'), ('YoshiMitsou San', 'Unboxing Specialist'), ('YoshiMitsou San', 'Hacky'), ('YoshiMitsou San', 'Unboxholics'), ('xalkdit', 'Xaros'), ('Geeks the Greeks', 'TechItSerious'), ('Geeks the Greeks', 'Unboxholics'), ('GRamers', 'LegitGamingGR'), ('GRamers', 'Megacyber'), ('GRamers', 'Kakos Xamos'), ('GRamers', 'Hacky'), ('GRamers', 'Puck Redflix'), ('GRamers', 'Booyah TV'), ('GRamers', 'TukuGr'), ('GRamers', 'Καθημερινή Φυσική'), ('GRamers', 'Skrap'), ('GRamers', 'WeirdWhisper'), ('GRamers', 'TechItSerious'), ('GRamers', 'Unboxing Specialist'), ('GRamers', 'NerZhul'), ('GRamers', 'PCsteps.gr'), ('DeadlyMuffin', 'LegitGamingGR'), ('DeadlyMuffin', 'Megacyber'), ('DeadlyMuffin', 'Meowreeee'), ('DeadlyMuffin', 'Kakos Xamos'), ('DeadlyMuffin', 'Konilo'), ('DeadlyMuffin', '2J'), ('DeadlyMuffin', 'Booyah TV'), ('DeadlyMuffin', 'TukuGr'), ('DeadlyMuffin', 'Skrap'), ('DeadlyMuffin', 'MateoProd'), ('DeadlyMuffin', 'TechItSerious'), ('DeadlyMuffin', 'Krow'), ('DeadlyMuffin', 'Unboxing Specialist'), ('DeadlyMuffin', 'Hacky'), ('DeadlyMuffin', 'ΜΠΑΜ FC'), ('DeadlyMuffin', 'Unboxholics'), ('DeadlyMuffin', 'NeverLander'), ('DeadlyMuffin', 'Lambros Fisfis'), ('DeadlyMuffin', 'KafroGamer'), ('Baze', 'MateoProd'), ('Baze', 'Megacyber'), ('Baze', 'LegitGamingGR'), ('Baze', 'CaptainPanez'), ('Baze', 'Kakos Xamos'), ('Baze', 'TukuGr'), ('Baze', 'Lotof'), ('Baze', 'TechItSerious'), ('Baze', 'Unboxing Specialist'), ('Baze', 'NeverLander'), ('Stix', 'Jack Lope'), ('NinjaCakeAssassin', 'Unboxholics'), ('NinjaCakeAssassin', 'KafroGamer'), ('NinjaCakeAssassin', 'LegitGamingGR'), ('NinjaCakeAssassin', 'Kakos Xamos'), ('zfgarage', 'PanosDent'), ('zfgarage', 'TechItSerious'), ('zfgarage', 'ComedyLab GR'), ('The KAZS Games', 'MateoProd'), ('The KAZS Games', 'Puck Games'), ('OA Gaming', 'MateoProd'), ('Linaras THC', 'Mikeius Official'), ('Linaras THC', 'Jack Lope'), ('Xaros', 'xalkdit'), ('Xaros', 'Lotof'), ('Animentary', 'Cosmote What s Up'), ('Animentary', 'Puck Redflix'), ('Animentary', 'Kakos Xamos'), ('Animentary', 'Mikeius Official'), ('Animentary', 'Konilo'), ('Animentary', 'Netwix'), ('Animentary', 'Skrap'), ('Animentary', 'Gloomy Gentlemen'), ('Animentary', 'Vibrator Productions'), ('Animentary', 'Hacky'), ('Animentary', 'ComedyLab GR'), ('Animentary', 'Unboxholics'), ('Animentary', 'Manos'), ('Animentary', 'Giorgos Mazonakis'), ('PigTard', 'Geo Hunter'), ('Daddy Playz', 'TOM and CHILL'), ('Daddy Playz', 'Puck Games'), ('Daddy Playz', 'GL Show'), ('Daddy Playz', 'KingBet'), ('Daddy Playz', 'Mikeius Official'), ('Daddy Playz', 'Netwix'), ('Daddy Playz', 'Ορεινή Μέλισσα'), ('Daddy Playz', 'Καθημερινή Φυσική'), ('Daddy Playz', 'LegitGamingGR'), ('Daddy Playz', '2J Games'), ('Daddy Playz', 'TechItSerious'), ('Daddy Playz', 'Panagiotis Milas'), ('Daddy Playz', 'Unboxing Specialist'), ('Daddy Playz', 'Hacky'), ('Daddy Playz', 'Raptopoulos'), ('Daddy Playz', 'Unboxholics'), ('Daddy Playz', 'Famous Games'), ('Daddy Playz', 'Φθείρομαι'), ('Daddy Playz', 'DOF TWOGEE'), ('The Mad Scientist', 'Καθημερινή Φυσική'), ('Dorii', 'KafroGamer'), ('Dorii', 'Hacky'), ('Dorii', 'Gianuba'), ('Maliatsis Tube', 'ComedyLab GR'), ('Maliatsis Tube', 'Mikeius Official'), ('Maliatsis Tube', 'Unboxholics')]\n"
     ]
    }
   ],
   "source": [
    "print(\"Local Bridges:\", local_bridges)"
   ],
   "metadata": {
    "collapsed": false,
    "ExecuteTime": {
     "end_time": "2024-02-01T16:25:20.804832204Z",
     "start_time": "2024-02-01T16:25:20.742510163Z"
    }
   },
   "id": "9ae660c122d98c20"
  },
  {
   "cell_type": "code",
   "execution_count": 18,
   "outputs": [
    {
     "name": "stdout",
     "output_type": "stream",
     "text": [
      "Sorted Nodes by Frequency: [('Skiourakic', 43), ('W1ndz', 38), ('Alekkun', 38), ('Nicolas Jovani', 34), ('SonOfZeus', 34), ('LPDudes', 29), ('Unboxholics', 28), ('Karpouzis', 27), ('Kristy', 23), ('Hacky', 22), ('Rocket Dust', 22), ('Annoula', 22), ('Konilo', 21), ('Booyah TV', 21), ('Natasha Kay', 20), ('Mastor', 20), ('RebellGamesGR', 20), ('PanosDent', 19), ('DeadlyMuffin', 19), ('Daddy Playz', 19), ('Kakos Xamos', 18), ('ItsOnlySkillz', 17), ('LegitGamingGR', 17), ('Mikeius Official', 15), ('Chris Kogias', 15), ('Axel', 15), ('TechItSerious', 14), ('TukuGr', 14), ('R1ou TV', 14), ('GRamers', 14), ('Animentary', 14), ('Manos', 13), ('Skrap', 12), ('Vibrator Productions', 12), ('NerZhul', 12), ('2J', 12), ('ComedyLab GR', 11), ('ΜΠΑΜ FC', 11), ('KafroGamer', 11), ('Unboxing Specialist', 11), ('D0nalduck7', 11), ('Alexandros Kopsialis', 10), ('Megacyber', 10), ('VENE', 10), ('Baze', 10), ('Giorgos Kavvalos', 9), ('Gunzar', 9), ('MateoProd', 9), ('Puck Redflix', 8), ('BilYolo', 8), ('SENIORA', 8), ('WeirdWhisper', 8), ('Lambros Fisfis', 8), ('Capital Music', 8), ('Netwix', 8), ('Gloomy Gentlemen', 8), ('Καθημερινή Φυσική', 8), ('VGTalesChannel', 7), ('Gianuba', 7), ('Jack Lope', 7), ('YoshiMitsou San', 7), ('Ορεινή Μέλισσα', 6), ('FrediGtv', 6), ('SNIK OFFICIAL', 6), ('John Li', 6), ('Internet4u', 6), ('TRANNOS', 6), ('Geo Hunter', 6), ('Tsach', 6), ('DoritoSenpai', 6), ('GL Show', 6), ('NeverLander', 6), ('Lev On', 6), ('marioTUBE', 5), ('AmiYiamiTube', 5), ('Dimitris DK  Kyrsanidis', 5), ('Panagiotis Milas', 5), ('Moxx', 5), ('TUS', 5), ('YoTsi', 5), ('NinjaCakeAssassin', 5), ('Dorii', 5), ('GL Stars', 5), ('zfgarage', 5), ('sifugeorge', 5), ('The Kouzins', 5), ('Puck Games', 4), ('HeitLord', 4), ('Φθείρομαι', 4), ('PanikRecordsTube', 4), ('FairGR', 4), ('xristt', 4), ('Dat Lilly', 4), ('MrAntouon Reacts', 4), ('NerZhul Games', 4), ('GamingPurist', 4), ('SpaK', 4), ('Stix', 4), ('AlphaPop', 4), ('Jeannon', 4), ('DK Games', 4), ('Linaras THC', 4), ('PCsteps.gr', 4), ('12os Pithikos', 4), ('Lazarouk0s', 4), ('Cobalt Music', 4), ('Mpoulakis Projects', 4), ('Drifter mike', 4), ('CaptainPanez', 4), ('TsoulfasP', 3), ('Markos Seferlis', 3), ('RantingGreekGamer', 3), ('DAMIAN', 3), ('2J Games', 3), ('Καμένα Χαρτάκια', 3), ('MAXIMUM TOP 10', 3), ('DOF TWOGEE', 3), ('N.O.E. εnNOEiται', 3), ('ANT1 TV', 3), ('The Mad Scientist', 3), ('OverDope Records', 3), ('Alexandros Maliatsis', 3), ('xalkdit', 3), ('TeamPls', 3), ('Toquel', 3), ('Lotof', 3), ('GL Teens', 3), ('TOM and CHILL', 3), ('Krow', 3), ('Frankie Pask', 3), ('Raptopoulos', 3), ('Resurrection Garage', 3), ('UH Highlights', 3), ('Xaros', 3), ('Maliatsis Tube', 3), ('Ορεινή Μέλισσα SHORTS', 2), ('Tzivag', 2), ('PC Building GR', 2), ('Trapsion Entertainment', 2), ('The Aero', 2), ('Above The Hood', 2), ('Mad TV Specials', 2), ('TopTenGR', 2), ('Labrini', 2), ('Παραφυσικές Δραστηριότητες', 2), ('Alpha TV Greece', 2), ('Balkan Records', 2), ('PigTard', 2), ('Satamo_Ryoshi', 2), ('persad', 2), ('Meowreeee', 2), ('ItsOnlyBro', 2), ('ΑΛΛΟΙ', 2), ('Kogias Reacts', 2), ('SpikeGames', 2), ('GL Friends', 2), ('Marw & Stas', 2), ('Nataludi', 2), ('Konstantina', 2), ('BadKarmaGR', 2), ('Giorgos Mazonakis', 2), ('W1ndzIRL', 2), ('FrankiePaskGames', 2), ('Prime Productions', 2), ('Odyssey Gamer', 2), ('iLLEOo', 2), ('Jim Epsilon', 2), ('Geeks the Greeks', 2), ('The KAZS Games', 2), ('mariotube', 1), ('Tsede The Real', 1), ('Sugar Boy King', 1), ('MR Ampa', 1), ('Elena Kremlidou', 1), ('FIVE Trading', 1), ('Gunner bossGR', 1), ('Lau Jr', 1), ('MINATION', 1), ('Tzitzi', 1), ('konilo shorts', 1), ('zmpa', 1), ('HardCoreGamerGR', 1), ('b-PsychoStories', 1), ('SkuLLy', 1), ('Mad Clip', 1), ('Light Official', 1), ('Paras Kaltsas', 1), ('Emily Official', 1), ('Marseaux - Topic', 1), ('HeitLord Games', 1), ('Zisis', 1), ('ThEO Trolopoulos', 1), ('Barcode Entertainment', 1), ('ΘΥΤΗΣ', 1), ('VLOSPA Official', 1), ('City Center', 1), ('ItsOnlyCrew', 1), ('GL Best', 1), ('GL BROS', 1), ('DimON Gamer', 1), ('Survivor Greece', 1), ('PL TUBE', 1), ('Το Κανάλι του Γιάννη John s Channel', 1), ('Über Alles Records', 1), ('OffBeat Records', 1), ('Εθνική Ομάδα Ποδοσφαίρου', 1), ('Weirdo', 1), ('Solmeister CKND', 1), ('UnboxSerious', 1), ('VAGGLOS', 1), ('Fanis Labropoulos - Nisfa Games', 1), ('FAMOUS TOLI', 1), ('Pangior', 1), ('HelenaLive', 1), ('Άντε Γειά Official', 1), ('Olympiacos FC - Official YouTube Channel', 1), ('GemiFrap', 1), ('Comedy GamerGr', 1), ('GRArthas', 1), ('Eleni Foureira', 1), ('Tsoulfer', 1), ('PDT Project', 1), ('Konstantinos Pantelidis Official', 1), ('OA Gaming', 1), ('Cosmote What s Up', 1), ('KingBet', 1), ('Famous Games', 1)]\n"
     ]
    }
   ],
   "source": [
    "print(\"Sorted Nodes by Frequency:\", sorted_nodes_by_frequency)"
   ],
   "metadata": {
    "collapsed": false,
    "ExecuteTime": {
     "end_time": "2024-02-01T16:25:20.805737976Z",
     "start_time": "2024-02-01T16:25:20.743610023Z"
    }
   },
   "id": "b0c5961566a622d7"
  },
  {
   "cell_type": "code",
   "execution_count": 19,
   "outputs": [],
   "source": [
    "import networkx as nx\n",
    "\n",
    "# Assuming 'G' is your pre-defined graph with 'label' attributes for each node\n",
    "local_bridges = []\n",
    "node_frequency = {}  # Dictionary to keep track of node frequency\n",
    "\n",
    "for edge in random_graph.edges():\n",
    "    u, v = edge\n",
    "    neighbors_u = set(random_graph.neighbors(u))\n",
    "    neighbors_v = set(random_graph.neighbors(v))\n",
    "\n",
    "    # Check if there are no common neighbors, indicating a local bridge\n",
    "    if not neighbors_u & neighbors_v:\n",
    "        label_u = random_graph.nodes[u].get('label', u)\n",
    "        label_v = random_graph.nodes[v].get('label', v)\n",
    "        local_bridges.append((label_u, label_v))\n",
    "\n",
    "        # Update the frequency count for each node\n",
    "        node_frequency[label_u] = node_frequency.get(label_u, 0) + 1\n",
    "        node_frequency[label_v] = node_frequency.get(label_v, 0) + 1\n",
    "\n",
    "# Sort the nodes by their frequency, highest to lowest\n",
    "sorted_nodes_by_frequency = sorted(node_frequency.items(), key=lambda item: item[1], reverse=True)\n",
    "\n",
    "\n",
    "\n"
   ],
   "metadata": {
    "collapsed": false,
    "ExecuteTime": {
     "end_time": "2024-02-01T16:25:20.999851728Z",
     "start_time": "2024-02-01T16:25:20.750532204Z"
    }
   },
   "id": "46dd7fb5855ede56"
  },
  {
   "cell_type": "code",
   "execution_count": 20,
   "outputs": [
    {
     "name": "stdout",
     "output_type": "stream",
     "text": [
      "1130\n"
     ]
    }
   ],
   "source": [
    "print(len(local_bridges))"
   ],
   "metadata": {
    "collapsed": false,
    "ExecuteTime": {
     "end_time": "2024-02-01T16:25:21.000941601Z",
     "start_time": "2024-02-01T16:25:20.794469223Z"
    }
   },
   "id": "95f4ed7de11ec766"
  },
  {
   "cell_type": "code",
   "execution_count": 21,
   "outputs": [
    {
     "name": "stdout",
     "output_type": "stream",
     "text": [
      "Local Bridges: [(0, 71), (0, 166), (0, 172), (0, 232), (1, 11), (1, 181), (1, 232), (2, 83), (2, 135), (2, 235), (3, 8), (3, 90), (3, 183), (4, 9), (4, 37), (4, 120), (4, 158), (5, 7), (5, 14), (5, 15), (5, 17), (5, 113), (5, 144), (6, 116), (6, 149), (6, 151), (6, 191), (6, 227), (7, 12), (7, 44), (7, 72), (7, 77), (7, 85), (7, 98), (7, 106), (7, 110), (7, 121), (7, 180), (7, 185), (8, 1), (8, 125), (8, 210), (8, 231), (9, 104), (10, 11), (10, 23), (10, 77), (10, 126), (10, 227), (11, 25), (11, 45), (11, 74), (11, 96), (11, 116), (11, 242), (12, 86), (12, 119), (12, 149), (13, 4), (14, 20), (14, 92), (14, 107), (14, 160), (15, 9), (15, 83), (15, 239), (16, 173), (16, 223), (17, 11), (17, 154), (17, 164), (17, 208), (17, 229), (17, 231), (17, 237), (18, 133), (18, 239), (19, 74), (19, 82), (19, 162), (19, 196), (19, 221), (19, 242), (20, 106), (20, 124), (20, 138), (20, 176), (20, 193), (20, 218), (21, 9), (21, 144), (21, 243), (22, 39), (22, 84), (22, 225), (22, 240), (23, 107), (23, 210), (23, 242), (24, 86), (24, 117), (24, 193), (25, 27), (25, 94), (25, 132), (25, 177), (25, 195), (26, 55), (26, 76), (26, 226), (27, 23), (27, 40), (27, 157), (28, 30), (28, 44), (28, 84), (28, 101), (28, 125), (28, 138), (28, 235), (29, 41), (29, 151), (30, 11), (30, 38), (30, 103), (30, 196), (30, 208), (30, 244), (31, 18), (31, 46), (31, 113), (31, 118), (31, 152), (31, 232), (32, 50), (32, 93), (32, 221), (32, 222), (33, 17), (33, 39), (33, 43), (33, 106), (33, 108), (34, 175), (34, 205), (34, 212), (34, 220), (34, 241), (35, 38), (35, 146), (35, 187), (35, 223), (35, 227), (36, 2), (36, 14), (36, 97), (36, 165), (36, 224), (36, 234), (37, 157), (37, 171), (38, 74), (38, 92), (38, 97), (38, 116), (38, 122), (38, 174), (38, 212), (39, 67), (39, 124), (39, 164), (39, 219), (40, 133), (40, 162), (40, 213), (40, 216), (40, 235), (41, 116), (41, 223), (42, 40), (42, 63), (42, 120), (42, 143), (42, 167), (43, 0), (43, 30), (43, 120), (43, 207), (43, 230), (43, 242), (44, 18), (44, 103), (44, 136), (44, 155), (44, 196), (45, 78), (45, 102), (45, 150), (45, 171), (45, 192), (46, 73), (46, 141), (46, 154), (46, 197), (47, 0), (47, 15), (47, 46), (47, 114), (47, 115), (47, 143), (48, 147), (48, 243), (49, 0), (49, 26), (49, 120), (49, 126), (49, 161), (49, 195), (50, 26), (50, 131), (50, 135), (50, 137), (50, 161), (50, 162), (50, 170), (50, 216), (51, 48), (51, 52), (51, 74), (51, 106), (51, 122), (51, 160), (51, 234), (52, 55), (52, 110), (52, 114), (52, 121), (52, 162), (52, 231), (53, 12), (53, 34), (53, 126), (53, 235), (54, 30), (54, 128), (54, 154), (55, 15), (55, 98), (55, 122), (55, 169), (55, 196), (56, 8), (56, 111), (56, 115), (56, 155), (56, 227), (57, 10), (57, 181), (58, 16), (58, 26), (58, 47), (58, 61), (58, 69), (58, 82), (58, 124), (58, 145), (58, 240), (59, 42), (59, 151), (60, 5), (60, 33), (60, 56), (60, 74), (60, 82), (60, 100), (60, 160), (60, 170), (60, 243), (61, 43), (61, 209), (61, 219), (62, 45), (62, 82), (62, 115), (63, 54), (63, 79), (63, 82), (63, 175), (64, 67), (64, 90), (64, 115), (64, 131), (64, 203), (65, 210), (65, 214), (65, 227), (66, 41), (66, 110), (66, 137), (66, 147), (66, 188), (66, 219), (66, 236), (67, 84), (67, 240), (68, 7), (68, 50), (68, 54), (68, 71), (68, 84), (68, 148), (68, 188), (68, 213), (69, 38), (69, 80), (69, 88), (69, 148), (70, 36), (70, 121), (70, 244), (71, 12), (71, 100), (71, 101), (72, 101), (72, 153), (72, 245), (73, 31), (73, 124), (73, 135), (74, 24), (74, 57), (74, 109), (74, 112), (74, 151), (74, 225), (75, 0), (75, 4), (75, 67), (75, 86), (75, 106), (75, 239), (76, 89), (76, 110), (77, 171), (78, 2), (78, 19), (78, 30), (78, 160), (78, 167), (79, 51), (79, 53), (79, 92), (79, 192), (79, 201), (79, 240), (81, 148), (81, 195), (81, 223), (82, 13), (82, 107), (82, 147), (83, 74), (83, 79), (83, 193), (83, 222), (84, 43), (84, 134), (85, 67), (86, 115), (86, 143), (86, 181), (86, 206), (86, 234), (87, 2), (87, 10), (87, 41), (87, 51), (87, 84), (87, 226), (88, 91), (88, 113), (89, 8), (89, 79), (89, 127), (89, 177), (89, 225), (89, 230), (90, 3), (90, 29), (90, 75), (90, 182), (91, 3), (91, 64), (91, 79), (91, 128), (91, 155), (91, 202), (92, 126), (92, 162), (92, 202), (93, 14), (93, 25), (93, 138), (93, 229), (93, 237), (94, 62), (94, 104), (94, 175), (94, 180), (95, 32), (95, 88), (95, 147), (95, 166), (95, 234), (96, 49), (96, 101), (96, 129), (96, 194), (96, 203), (96, 218), (97, 21), (97, 25), (97, 39), (97, 202), (97, 206), (97, 208), (97, 222), (97, 231), (98, 4), (98, 102), (98, 144), (98, 167), (98, 199), (99, 133), (99, 168), (99, 178), (99, 185), (100, 36), (100, 62), (100, 161), (100, 182), (100, 222), (101, 91), (101, 95), (101, 97), (101, 102), (101, 164), (101, 197), (101, 224), (102, 14), (102, 56), (102, 187), (102, 203), (103, 12), (103, 35), (103, 46), (103, 102), (103, 112), (103, 160), (104, 133), (105, 47), (105, 194), (105, 225), (105, 230), (106, 22), (106, 53), (106, 71), (106, 136), (106, 165), (106, 210), (107, 33), (107, 74), (107, 197), (107, 235), (108, 16), (108, 46), (108, 118), (109, 48), (109, 148), (110, 14), (110, 96), (110, 103), (111, 59), (111, 80), (111, 102), (111, 106), (111, 143), (111, 148), (111, 162), (111, 181), (111, 186), (112, 11), (112, 41), (112, 99), (112, 137), (112, 187), (112, 200), (112, 217), (112, 243), (113, 100), (113, 108), (113, 110), (113, 157), (113, 244), (114, 31), (114, 98), (114, 164), (114, 188), (115, 18), (115, 76), (115, 176), (115, 229), (116, 47), (116, 60), (116, 241), (117, 33), (117, 80), (117, 125), (117, 152), (118, 74), (118, 79), (118, 180), (118, 202), (118, 204), (119, 81), (119, 87), (119, 106), (119, 151), (119, 241), (120, 67), (120, 77), (120, 172), (120, 246), (121, 167), (121, 227), (122, 202), (123, 19), (123, 27), (123, 48), (123, 234), (123, 245), (124, 177), (125, 47), (125, 82), (125, 166), (125, 174), (125, 177), (125, 219), (125, 243), (125, 245), (126, 186), (126, 200), (127, 29), (127, 76), (127, 121), (127, 131), (127, 143), (127, 165), (127, 204), (127, 246), (128, 46), (128, 69), (128, 111), (128, 115), (128, 157), (128, 222), (129, 18), (129, 53), (129, 66), (129, 119), (129, 154), (129, 199), (130, 0), (130, 32), (130, 41), (130, 120), (130, 162), (131, 6), (131, 13), (131, 97), (131, 230), (132, 129), (132, 130), (132, 183), (132, 206), (132, 234), (132, 235), (133, 46), (133, 77), (133, 118), (133, 134), (133, 166), (133, 217), (134, 109), (134, 127), (134, 138), (134, 161), (134, 174), (134, 206), (135, 49), (135, 63), (135, 198), (136, 90), (136, 117), (136, 187), (136, 199), (136, 234), (137, 21), (137, 43), (137, 51), (137, 66), (137, 225), (138, 35), (138, 48), (138, 57), (138, 89), (138, 112), (138, 131), (138, 173), (139, 1), (139, 6), (139, 10), (139, 72), (139, 134), (139, 184), (139, 230), (140, 40), (140, 170), (140, 206), (141, 12), (141, 65), (141, 76), (141, 185), (142, 78), (142, 124), (143, 28), (143, 87), (143, 99), (143, 150), (143, 164), (143, 221), (143, 241), (144, 8), (144, 16), (144, 71), (144, 169), (144, 236), (145, 0), (145, 39), (145, 101), (146, 32), (146, 210), (146, 232), (147, 149), (147, 194), (147, 196), (147, 199), (148, 34), (148, 79), (148, 105), (148, 187), (149, 114), (149, 120), (149, 134), (149, 167), (150, 5), (150, 106), (150, 175), (150, 184), (150, 228), (151, 64), (151, 105), (151, 162), (151, 224), (152, 222), (152, 245), (153, 5), (153, 46), (153, 50), (153, 76), (153, 88), (153, 199), (154, 8), (154, 14), (154, 21), (154, 80), (154, 133), (154, 140), (154, 203), (155, 201), (155, 209), (156, 90), (156, 147), (156, 160), (157, 37), (157, 58), (157, 59), (157, 93), (157, 105), (157, 191), (158, 18), (158, 142), (158, 143), (158, 191), (158, 219), (158, 227), (159, 17), (159, 75), (160, 87), (160, 121), (160, 149), (160, 150), (160, 202), (160, 223), (161, 136), (161, 150), (162, 61), (162, 118), (162, 130), (162, 146), (162, 179), (162, 243), (163, 12), (163, 68), (163, 90), (163, 157), (163, 216), (164, 27), (164, 129), (164, 144), (164, 167), (164, 242), (165, 37), (165, 221), (166, 204), (166, 206), (166, 239), (167, 43), (167, 70), (167, 86), (167, 174), (167, 235), (168, 52), (168, 65), (168, 223), (169, 19), (169, 22), (169, 29), (169, 69), (169, 206), (169, 220), (170, 13), (170, 24), (170, 106), (171, 3), (171, 46), (171, 62), (171, 68), (171, 83), (171, 87), (171, 181), (171, 246), (172, 138), (172, 169), (172, 211), (172, 229), (172, 245), (173, 68), (173, 86), (173, 88), (173, 144), (173, 228), (173, 231), (173, 243), (174, 29), (174, 61), (175, 6), (175, 23), (175, 68), (175, 111), (175, 113), (175, 126), (175, 236), (176, 13), (176, 50), (176, 96), (176, 184), (176, 198), (176, 223), (177, 12), (177, 20), (177, 97), (177, 143), (177, 172), (177, 238), (178, 130), (178, 169), (178, 207), (179, 41), (179, 52), (179, 68), (179, 89), (179, 151), (179, 159), (179, 208), (180, 38), (180, 102), (180, 107), (180, 138), (180, 164), (180, 207), (180, 219), (180, 232), (181, 21), (181, 130), (181, 140), (181, 180), (181, 205), (182, 74), (182, 138), (182, 175), (182, 179), (183, 55), (183, 80), (183, 104), (183, 223), (184, 141), (184, 181), (184, 199), (184, 236), (185, 37), (185, 51), (185, 71), (185, 119), (186, 78), (186, 84), (186, 137), (186, 208), (187, 33), (187, 165), (187, 166), (187, 172), (188, 3), (188, 53), (188, 69), (188, 105), (188, 127), (189, 24), (189, 72), (189, 105), (189, 149), (190, 12), (190, 49), (190, 65), (190, 82), (190, 109), (190, 124), (190, 128), (190, 232), (191, 11), (191, 89), (192, 31), (192, 119), (192, 230), (193, 29), (193, 125), (193, 173), (193, 197), (193, 202), (193, 215), (194, 10), (194, 24), (194, 25), (194, 58), (194, 60), (194, 78), (194, 106), (194, 147), (194, 181), (195, 8), (195, 21), (195, 147), (195, 175), (196, 33), (196, 58), (196, 95), (196, 152), (196, 219), (197, 8), (197, 85), (197, 105), (197, 213), (198, 3), (198, 182), (199, 22), (199, 42), (199, 112), (199, 238), (199, 241), (200, 72), (200, 130), (200, 140), (200, 175), (200, 202), (200, 240), (201, 5), (201, 117), (201, 121), (201, 208), (201, 245), (202, 8), (202, 26), (202, 93), (202, 124), (202, 141), (202, 207), (203, 22), (203, 60), (203, 147), (203, 185), (203, 210), (203, 244), (204, 65), (204, 92), (204, 135), (204, 181), (205, 12), (205, 58), (205, 166), (205, 243), (206, 8), (206, 28), (206, 136), (207, 32), (207, 89), (207, 185), (207, 194), (207, 205), (207, 245), (208, 43), (208, 162), (208, 170), (208, 185), (209, 44), (209, 63), (209, 137), (209, 189), (210, 26), (210, 66), (210, 77), (210, 178), (210, 205), (211, 56), (211, 92), (211, 93), (211, 123), (211, 133), (211, 175), (211, 178), (211, 179), (211, 186), (212, 60), (212, 130), (212, 185), (212, 204), (212, 219), (213, 89), (213, 149), (213, 202), (213, 241), (213, 245), (214, 17), (214, 83), (214, 85), (214, 157), (215, 70), (215, 216), (216, 39), (216, 160), (216, 173), (216, 189), (217, 9), (217, 13), (217, 72), (217, 150), (217, 177), (218, 1), (218, 13), (218, 55), (218, 90), (218, 118), (218, 191), (218, 212), (219, 101), (219, 104), (219, 158), (219, 163), (219, 244), (220, 63), (220, 64), (220, 74), (220, 141), (220, 148), (220, 222), (221, 19), (221, 167), (221, 193), (222, 33), (222, 34), (222, 98), (222, 103), (222, 162), (222, 176), (223, 133), (224, 6), (224, 36), (224, 141), (224, 155), (224, 217), (225, 19), (225, 110), (225, 117), (225, 175), (225, 183), (226, 92), (226, 125), (226, 161), (226, 170), (226, 185), (226, 189), (226, 224), (227, 13), (227, 19), (227, 26), (227, 56), (227, 101), (227, 139), (227, 245), (228, 6), (228, 11), (228, 26), (228, 113), (229, 54), (229, 94), (229, 102), (229, 137), (229, 146), (229, 206), (230, 87), (230, 106), (230, 138), (230, 159), (230, 167), (230, 189), (230, 200), (231, 32), (231, 116), (231, 161), (231, 173), (232, 230), (233, 122), (233, 160), (233, 200), (234, 119), (234, 135), (234, 171), (234, 186), (235, 17), (235, 97), (235, 113), (235, 178), (236, 7), (236, 159), (236, 178), (236, 182), (237, 52), (237, 77), (237, 97), (237, 122), (237, 163), (238, 80), (238, 106), (238, 108), (238, 193), (238, 223), (239, 103), (239, 105), (239, 134), (239, 154), (239, 244), (240, 93), (240, 135), (240, 153), (240, 158), (240, 222), (240, 223), (240, 232), (241, 13), (241, 172), (242, 8), (242, 39), (242, 49), (242, 60), (242, 152), (243, 85), (243, 90), (243, 107), (243, 172), (243, 236), (244, 18), (244, 97), (244, 152), (244, 159), (244, 165), (244, 227), (245, 40), (245, 54), (245, 176), (245, 180), (245, 201), (245, 221), (245, 231), (246, 5), (246, 19), (246, 27), (246, 28), (246, 107), (246, 156), (246, 203), (246, 239)]\n"
     ]
    }
   ],
   "source": [
    "print(\"Local Bridges:\", local_bridges)"
   ],
   "metadata": {
    "collapsed": false,
    "ExecuteTime": {
     "end_time": "2024-02-01T16:25:21.002862097Z",
     "start_time": "2024-02-01T16:25:20.794890505Z"
    }
   },
   "id": "53aa2657c43f4531"
  },
  {
   "cell_type": "code",
   "execution_count": 9,
   "outputs": [
    {
     "ename": "NameError",
     "evalue": "name 'sorted_nodes_by_frequency' is not defined",
     "output_type": "error",
     "traceback": [
      "\u001B[0;31m---------------------------------------------------------------------------\u001B[0m",
      "\u001B[0;31mNameError\u001B[0m                                 Traceback (most recent call last)",
      "Cell \u001B[0;32mIn[9], line 1\u001B[0m\n\u001B[0;32m----> 1\u001B[0m \u001B[38;5;28mprint\u001B[39m(\u001B[38;5;124m\"\u001B[39m\u001B[38;5;124mSorted Nodes by Frequency:\u001B[39m\u001B[38;5;124m\"\u001B[39m, \u001B[43msorted_nodes_by_frequency\u001B[49m)\n",
      "\u001B[0;31mNameError\u001B[0m: name 'sorted_nodes_by_frequency' is not defined"
     ]
    }
   ],
   "source": [
    "print(\"Sorted Nodes by Frequency:\", sorted_nodes_by_frequency)"
   ],
   "metadata": {
    "collapsed": false,
    "ExecuteTime": {
     "end_time": "2024-01-30T16:15:49.675535056Z",
     "start_time": "2024-01-30T16:15:49.628158171Z"
    }
   },
   "id": "b7f44fa89e0c5f66"
  },
  {
   "cell_type": "code",
   "execution_count": 23,
   "outputs": [],
   "source": [
    "same_attribute_count = 0\n",
    "for u, v in G.edges():\n",
    "    if G.nodes[u]['rap_content'] == G.nodes[v]['rap_content']:\n",
    "        same_attribute_count += 1\n",
    "homophily_index = same_attribute_count / G.number_of_edges()\n"
   ],
   "metadata": {
    "collapsed": false,
    "ExecuteTime": {
     "end_time": "2024-02-01T16:26:48.624052364Z",
     "start_time": "2024-02-01T16:26:48.608218189Z"
    }
   },
   "id": "d7e1509dba75bb12"
  },
  {
   "cell_type": "code",
   "execution_count": 24,
   "outputs": [
    {
     "data": {
      "text/plain": "0.4059561128526646"
     },
     "execution_count": 24,
     "metadata": {},
     "output_type": "execute_result"
    }
   ],
   "source": [
    "homophily_index"
   ],
   "metadata": {
    "collapsed": false,
    "ExecuteTime": {
     "end_time": "2024-02-01T16:26:55.349489188Z",
     "start_time": "2024-02-01T16:26:55.300913277Z"
    }
   },
   "id": "64b9d5a32bae08a5"
  },
  {
   "cell_type": "code",
   "execution_count": 25,
   "outputs": [],
   "source": [
    "import numpy as np\n",
    "\n",
    "categories = ['rapper', 'entertainment', 'vlog', 'tv', 'training', 'tech reviews', 'sinomosiologos', 'podcast', 'music label', 'learning', 'motorbike', 'Greek laiko', 'gaming', 'football', 'cars', 'cooking']\n",
    "for node in random_graph.nodes():\n",
    "    random_graph.nodes[node]['category'] = np.random.choice(categories)\n"
   ],
   "metadata": {
    "collapsed": false,
    "ExecuteTime": {
     "end_time": "2024-02-01T16:45:20.163735851Z",
     "start_time": "2024-02-01T16:45:20.123027464Z"
    }
   },
   "id": "c7f9e9414bc3139d"
  },
  {
   "cell_type": "code",
   "execution_count": 26,
   "outputs": [
    {
     "data": {
      "text/plain": "0.0776"
     },
     "execution_count": 26,
     "metadata": {},
     "output_type": "execute_result"
    }
   ],
   "source": [
    "same_category_count = 0\n",
    "for u, v in random_graph.edges():\n",
    "    if random_graph.nodes[u]['category'] == random_graph.nodes[v]['category']:\n",
    "        same_category_count += 1\n",
    "homophily_index_random_graph = same_category_count / random_graph.number_of_edges()\n",
    "homophily_index_random_graph"
   ],
   "metadata": {
    "collapsed": false,
    "ExecuteTime": {
     "end_time": "2024-02-01T16:45:35.465750402Z",
     "start_time": "2024-02-01T16:45:35.433346347Z"
    }
   },
   "id": "f52d4d5dba60edb6"
  }
 ],
 "metadata": {
  "kernelspec": {
   "display_name": "Python 3",
   "language": "python",
   "name": "python3"
  },
  "language_info": {
   "codemirror_mode": {
    "name": "ipython",
    "version": 2
   },
   "file_extension": ".py",
   "mimetype": "text/x-python",
   "name": "python",
   "nbconvert_exporter": "python",
   "pygments_lexer": "ipython2",
   "version": "2.7.6"
  }
 },
 "nbformat": 4,
 "nbformat_minor": 5
}
