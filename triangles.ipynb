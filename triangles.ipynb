{
 "cells": [
  {
   "cell_type": "code",
   "execution_count": 1,
   "id": "initial_id",
   "metadata": {
    "collapsed": true,
    "ExecuteTime": {
     "end_time": "2024-01-14T11:49:51.276392158Z",
     "start_time": "2024-01-14T11:49:50.474566856Z"
    }
   },
   "outputs": [],
   "source": [
    "import networkx as nx\n",
    "G = nx.read_graphml('dataset_of_netwrok.graphml')"
   ]
  },
  {
   "cell_type": "code",
   "execution_count": 8,
   "outputs": [],
   "source": [
    "G_undirected = G.to_undirected()\n",
    "triangles = nx.triangles(G_undirected)\n",
    "total_triangles = sum(triangles.values()) // 3\n"
   ],
   "metadata": {
    "collapsed": false,
    "ExecuteTime": {
     "end_time": "2024-01-14T12:01:48.676922558Z",
     "start_time": "2024-01-14T12:01:48.662547002Z"
    }
   },
   "id": "840dcaa54d8a294a"
  },
  {
   "cell_type": "code",
   "execution_count": 9,
   "outputs": [
    {
     "data": {
      "text/plain": "2714"
     },
     "execution_count": 9,
     "metadata": {},
     "output_type": "execute_result"
    }
   ],
   "source": [
    "total_triangles"
   ],
   "metadata": {
    "collapsed": false,
    "ExecuteTime": {
     "end_time": "2024-01-14T12:12:33.049763669Z",
     "start_time": "2024-01-14T12:12:32.999361588Z"
    }
   },
   "id": "1f38ddd4f35e0020"
  },
  {
   "cell_type": "code",
   "execution_count": 7,
   "outputs": [
    {
     "name": "stdout",
     "output_type": "stream",
     "text": [
      "The Number of triangles in the graph: 396\n"
     ]
    }
   ],
   "source": [
    "from networkx import adjacency_matrix\n",
    "import networkx as nx\n",
    "import scipy.sparse as sp\n",
    "\n",
    "def countTriangle(G, isDirected):\n",
    "    # Convert NetworkX graph to adjacency matrix\n",
    "    A = adjacency_matrix(G)\n",
    "    nodes = G.number_of_nodes() \n",
    "    count_Triangle = 0\n",
    "\n",
    "    # Consider every possible triplet of edges in graph\n",
    "    for i in range(nodes):\n",
    "        for j in range(nodes):\n",
    "            for k in range(nodes):\n",
    "                # Check the triplet if it satisfies the condition\n",
    "                if(i != j and i != k and j != k and\n",
    "                   A[i, j] and A[j, k] and A[k, i]):\n",
    "                    count_Triangle += 1\n",
    "\n",
    "    # If graph is directed, division is done by 3\n",
    "    # Else division by 6 is done\n",
    "    if isDirected:\n",
    "        return count_Triangle // 3\n",
    "    else:\n",
    "        return count_Triangle // 6\n",
    "\n",
    "# Determine if the graph is directed or not\n",
    "is_directed = isinstance(G, nx.DiGraph)\n",
    "\n",
    "print(\"The Number of triangles in the graph: %d\" % countTriangle(G, is_directed))"
   ],
   "metadata": {
    "collapsed": false,
    "ExecuteTime": {
     "end_time": "2024-01-14T12:01:48.673213257Z",
     "start_time": "2024-01-14T11:58:49.651050852Z"
    }
   },
   "id": "758af0030713c6b2"
  }
 ],
 "metadata": {
  "kernelspec": {
   "display_name": "Python 3",
   "language": "python",
   "name": "python3"
  },
  "language_info": {
   "codemirror_mode": {
    "name": "ipython",
    "version": 2
   },
   "file_extension": ".py",
   "mimetype": "text/x-python",
   "name": "python",
   "nbconvert_exporter": "python",
   "pygments_lexer": "ipython2",
   "version": "2.7.6"
  }
 },
 "nbformat": 4,
 "nbformat_minor": 5
}
